{
 "cells": [
  {
   "cell_type": "code",
   "execution_count": 7,
   "metadata": {},
   "outputs": [
    {
     "name": "stdout",
     "output_type": "stream",
     "text": [
      "[4, 4, 4, 4, 2, 1]\n",
      "[2, 10, 7, 4, 4, 3]\n",
      "[4, 12, 5, 1, 1, 1]\n",
      "[3, 10, 10, 9, 9, 6]\n",
      "[4, 12, 3, 2, 2, 2]\n",
      "[3, 9, 7, 7, 3, 3]\n",
      "[6, 3, 1, 1, 1, 1]\n",
      "[5, 2, 2, 2, 1, 1]\n",
      "[1, 11, 6, 5, 3, 2]\n",
      "[4, 13, 4, 4, 4, 1]\n",
      "[5, 12, 12, 1, 1, 1]\n",
      "[5, 11, 11, 1, 1, 1]\n",
      "[2, 10, 9, 9, 8, 1]\n",
      "[3, 10, 10, 9, 9, 7]\n",
      "[4, 13, 8, 8, 8, 3]\n",
      "[4, 11, 11, 11, 10, 7]\n",
      "[1, 12, 11, 9, 8, 3]\n",
      "[1, 12, 11, 9, 7, 1]\n",
      "[2, 9, 7, 5, 2, 2]\n",
      "[3, 10, 10, 8, 5, 5]\n"
     ]
    },
    {
     "data": {
      "text/plain": [
       "(101822,\n",
       " [('367Q4', 661, 1),\n",
       "  ('TK8Q2', 584, 2),\n",
       "  ('K49QT', 244, 3),\n",
       "  ('3T386', 597, 4),\n",
       "  ('4558J', 55, 5),\n",
       "  ('9J2TT', 623, 6),\n",
       "  ('4T884', 682, 7),\n",
       "  ('6J69J', 930, 8),\n",
       "  ('T7JJT', 530, 9),\n",
       "  ('T8JTJ', 677, 10)],\n",
       " [('32555', 626, 11),\n",
       "  ('QQJ8Q', 338, 12),\n",
       "  ('K4333', 992, 13),\n",
       "  ('62K22', 775, 14),\n",
       "  ('552A5', 435, 15),\n",
       "  ('A4999', 432, 16),\n",
       "  ('22333', 122, 17),\n",
       "  ('22Q2Q', 141, 18),\n",
       "  ('2K2K2', 131, 19),\n",
       "  ('42222', 694, 20)])"
      ]
     },
     "execution_count": 7,
     "metadata": {},
     "output_type": "execute_result"
    }
   ],
   "source": [
    "from collections import Counter\n",
    "\n",
    "def classify_hand_refactored(hand):\n",
    "    \"\"\"Classify the hand into one of the seven types.\"\"\"\n",
    "    counts = Counter(hand)\n",
    "    unique_cards = len(counts)\n",
    "\n",
    "    if 5 in counts.values():\n",
    "        return \"Five of a kind\"\n",
    "    elif 4 in counts.values():\n",
    "        return \"Four of a kind\"\n",
    "    elif unique_cards == 2 and 3 in counts.values():\n",
    "        return \"Full house\"\n",
    "    elif 3 in counts.values():\n",
    "        return \"Three of a kind\"\n",
    "    elif unique_cards == 3:\n",
    "        return \"Two pair\"\n",
    "    elif unique_cards == 4:\n",
    "        return \"One pair\"\n",
    "    else:\n",
    "        return \"High card\"\n",
    "\n",
    "def final_hand_strength_refactored(hand):\n",
    "    \"\"\"Calculate hand strength considering type, first card, and then subsequent cards.\"\"\"\n",
    "    type_strength = {\n",
    "        \"Five of a kind\": 7,\n",
    "        \"Four of a kind\": 6,\n",
    "        \"Full house\": 5,\n",
    "        \"Three of a kind\": 4,\n",
    "        \"Two pair\": 3,\n",
    "        \"One pair\": 2,\n",
    "        \"High card\": 1\n",
    "    }\n",
    "\n",
    "    card_order = {label: i for i, label in enumerate(\"23456789TJQKA\", start=1)}\n",
    "    hand_type = classify_hand_refactored(hand)\n",
    "\n",
    "    # Sorting by hand type, then by each card's value\n",
    "    hand_type = [type_strength[hand_type]] \n",
    "    hand_strength= [card_order[card] for card in hand]\n",
    "    return hand_type, ''.join(hand_strength)\n",
    "\n",
    "\n",
    "# Reading the content of the file\n",
    "with open(\"adventofcode.com_2023_day_7_input.txt\", 'r') as file:\n",
    "    content = file.readlines()\n",
    "# Parsing the input data\n",
    "re_parsed_hands = [(line.strip().split()[0], int(line.strip().split()[1])) for line in content[0:20]]\n",
    "\n",
    "\n",
    "# Re-sort the full input data with the alphabetical hand strength calculation\n",
    "sorted_full_input_alphabetical = sorted(re_parsed_hands, key=lambda x: final_hand_strength_refactored(x[0]))\n",
    "\n",
    "# Assigning ranks to each hand (sorted in 'alphabetical' order)\n",
    "ranked_full_input_alphabetical = [(hand, bid, rank + 1) for rank, (hand, bid) in enumerate(sorted_full_input_alphabetical)]\n",
    "\n",
    "# Re-calculating total winnings with the alphabetical ranking\n",
    "total_winnings_full_input_alphabetical = sum(bid * rank for hand, bid, rank in ranked_full_input_alphabetical)\n",
    "\n",
    "total_winnings_full_input_alphabetical, ranked_full_input_alphabetical[:10], ranked_full_input_alphabetical[-10:]  # Displaying total winnings, last 10 and first 10 ranked hands\n",
    "\n"
   ]
  },
  {
   "cell_type": "code",
   "execution_count": null,
   "metadata": {},
   "outputs": [],
   "source": []
  }
 ],
 "metadata": {
  "kernelspec": {
   "display_name": "rr_bot",
   "language": "python",
   "name": "python3"
  },
  "language_info": {
   "codemirror_mode": {
    "name": "ipython",
    "version": 3
   },
   "file_extension": ".py",
   "mimetype": "text/x-python",
   "name": "python",
   "nbconvert_exporter": "python",
   "pygments_lexer": "ipython3",
   "version": "3.9.12"
  }
 },
 "nbformat": 4,
 "nbformat_minor": 2
}
