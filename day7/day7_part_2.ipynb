{
 "cells": [
  {
   "cell_type": "code",
   "execution_count": 22,
   "metadata": {},
   "outputs": [
    {
     "data": {
      "text/plain": [
       "(253907829,\n",
       " [('AAJAA', 88, 1000),\n",
       "  ('KKJKK', 399, 999),\n",
       "  ('QJQQQ', 620, 998),\n",
       "  ('QJQQJ', 448, 997),\n",
       "  ('TTTJT', 514, 996),\n",
       "  ('999JJ', 424, 995),\n",
       "  ('9J999', 809, 994),\n",
       "  ('88JJ8', 147, 993),\n",
       "  ('7777J', 299, 992),\n",
       "  ('777JJ', 771, 991)],\n",
       " '...',\n",
       " [('29K63', 828, 10),\n",
       "  ('29Q85', 982, 9),\n",
       "  ('285TQ', 488, 8),\n",
       "  ('27KQ4', 886, 7),\n",
       "  ('27TA5', 74, 6),\n",
       "  ('264KA', 475, 5),\n",
       "  ('25K63', 382, 4),\n",
       "  ('25K43', 105, 3),\n",
       "  ('246AQ', 69, 2),\n",
       "  ('23KAT', 418, 1)])"
      ]
     },
     "execution_count": 22,
     "metadata": {},
     "output_type": "execute_result"
    }
   ],
   "source": [
    "from collections import Counter\n",
    "\n",
    "def classify_hand(hand):\n",
    "    \"\"\"Classify the hand into one of the seven types.\"\"\"\n",
    "    counts = Counter(hand)\n",
    "    unique_cards = len(counts)\n",
    "\n",
    "    # Check if a 'J' card is present, unless 5 of a kind in joker\n",
    "    if 'J' in counts and unique_cards > 1:\n",
    "        # Consider J as a card that helps form the highest possible hand type\n",
    "        joker_count = counts['J']\n",
    "        del counts['J']\n",
    "        target_card = counts.most_common()[0]\n",
    "        counts[target_card[0]] += joker_count\n",
    "        unique_cards = len(counts)\n",
    "                \n",
    "    if 5 in counts.values():\n",
    "        return \"Five of a kind\"\n",
    "    elif 4 in counts.values():\n",
    "        return \"Four of a kind\"\n",
    "    elif unique_cards == 2 and 3 in counts.values():\n",
    "        return \"Full house\"\n",
    "    elif 3 in counts.values():\n",
    "        return \"Three of a kind\"\n",
    "    elif unique_cards == 3:\n",
    "        return \"Two pair\"\n",
    "    elif unique_cards == 4:\n",
    "        return \"One pair\"\n",
    "    else:\n",
    "        return \"High card\"\n",
    "\n",
    "def final_hand_strength(hand):\n",
    "    \"\"\"Calculate hand strength considering type, first card, and then subsequent cards.\"\"\"\n",
    "    num_to_letter = {i: chr(96 +15 -i) for i in range(1, 15)}\n",
    "    type_strength = {\n",
    "        \"Five of a kind\": 1,\n",
    "        \"Four of a kind\": 2,\n",
    "        \"Full house\": 3,\n",
    "        \"Three of a kind\": 4,\n",
    "        \"Two pair\": 5,\n",
    "        \"One pair\": 6,\n",
    "        \"High card\": 7\n",
    "    }\n",
    "\n",
    "    card_order = {label: i for i, label in enumerate(\"J23456789TQKA\", start=1)}\n",
    "    hand_type = classify_hand(hand)\n",
    "\n",
    "    # Sorting by hand type, then by each card's value\n",
    "    hand_values = [num_to_letter[card_order[card]] for card in hand]\n",
    "\n",
    "    hand_type_id  = type_strength[hand_type]\n",
    "    hand_string = f\"{hand_type_id}{''.join(hand_values)}\"\n",
    "\n",
    "    return hand_string\n",
    "\n",
    "\n",
    "# Reading the content of the file\n",
    "with open(\"adventofcode.com_2023_day_7_input.txt\", 'r') as file:\n",
    "    content = file.readlines()\n",
    "# Parsing the input data\n",
    "hands = [(line.strip().split()[0], int(line.strip().split()[1])) for line in content]\n",
    "\n",
    "# Re-sort the full input data with the alphabetical hand strength calculation\n",
    "sorted_full_input_alphabetical = sorted(hands, key=lambda x: final_hand_strength(x[0]))\n",
    "\n",
    "# Assigning ranks to each hand (sorted in 'alphabetical' order)\n",
    "ranked_full_input_alphabetical = [(hand, bid, len(hands)-rank) for rank, (hand, bid) in enumerate(sorted_full_input_alphabetical)]\n",
    "\n",
    "# Re-calculating total winnings with the alphabetical ranking\n",
    "total_winnings_full_input_alphabetical = sum(bid * rank for _, bid, rank in ranked_full_input_alphabetical)\n",
    "\n",
    "total_winnings_full_input_alphabetical, ranked_full_input_alphabetical[:10],'...', ranked_full_input_alphabetical[-10:]  # Displaying total winnings, last 10 and first 10 ranked hands\n",
    "\n"
   ]
  },
  {
   "cell_type": "code",
   "execution_count": null,
   "metadata": {},
   "outputs": [],
   "source": [
    "# 254061504\n",
    "\n",
    "# 253907829"
   ]
  },
  {
   "cell_type": "code",
   "execution_count": 18,
   "metadata": {},
   "outputs": [
    {
     "name": "stdout",
     "output_type": "stream",
     "text": [
      "Counter({'2': 3, '5': 2})\n",
      "Full house\n"
     ]
    }
   ],
   "source": [
    "def classify_hand_refactored(hand):\n",
    "    \"\"\"Classify the hand into one of the seven types.\"\"\"\n",
    "    counts = Counter(hand)\n",
    "    unique_cards = len(counts)\n",
    "\n",
    "    # Check if a 'J' card is present, unless 5 of a kind in joker\n",
    "    if 'J' in counts and unique_cards > 1:\n",
    "        # Consider J as a card that helps form the highest possible hand type\n",
    "        joker_count = counts['J']\n",
    "        del counts['J']\n",
    "        target_card = counts.most_common()[0][0]\n",
    "        counts[target_card] = max(counts.values()) + joker_count\n",
    "        unique_cards = len(counts)\n",
    "\n",
    "    print(counts)\n",
    "    if 5 in counts.values():\n",
    "        return \"Five of a kind\"\n",
    "    elif 4 in counts.values():\n",
    "        return \"Four of a kind\"\n",
    "    elif unique_cards == 2 and 3 in counts.values():\n",
    "        return \"Full house\"\n",
    "    elif 3 in counts.values():\n",
    "        return \"Three of a kind\"\n",
    "    elif unique_cards == 3:\n",
    "        return \"Two pair\"\n",
    "    elif unique_cards == 4:\n",
    "        return \"One pair\"\n",
    "    else:\n",
    "        return \"High card\"\n",
    "print(classify_hand_refactored('J2255'))"
   ]
  },
  {
   "cell_type": "code",
   "execution_count": null,
   "metadata": {},
   "outputs": [],
   "source": []
  }
 ],
 "metadata": {
  "kernelspec": {
   "display_name": "rr_bot",
   "language": "python",
   "name": "python3"
  },
  "language_info": {
   "codemirror_mode": {
    "name": "ipython",
    "version": 3
   },
   "file_extension": ".py",
   "mimetype": "text/x-python",
   "name": "python",
   "nbconvert_exporter": "python",
   "pygments_lexer": "ipython3",
   "version": "3.9.12"
  }
 },
 "nbformat": 4,
 "nbformat_minor": 2
}
