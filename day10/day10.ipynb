{
 "cells": [
  {
   "cell_type": "code",
   "execution_count": 2,
   "metadata": {},
   "outputs": [],
   "source": [
    "\"\"\"The pipes are arranged in a two-dimensional grid of tiles:\n",
    "\n",
    "| is a vertical pipe connecting north and south.\n",
    "- is a horizontal pipe connecting east and west.\n",
    "L is a 90-degree bend connecting north and east.\n",
    "J is a 90-degree bend connecting north and west.\n",
    "7 is a 90-degree bend connecting south and west.\n",
    "F is a 90-degree bend connecting south and east.\n",
    ". is ground; there is no pipe in this tile.\n",
    "\n",
    "S is the starting position of the animal; there is a pipe on this tile,\n",
    "but your sketch doesn't show what shape the pipe has.\n",
    "\"\"\"\n",
    "\n",
    "example_1 =\"\"\".....\n",
    ".F-7.\n",
    ".|.|.\n",
    ".L-J.\n",
    ".....\n",
    "\"\"\"\n",
    "\n",
    "example_2 =\"\"\".....\n",
    ".S-7.\n",
    ".|.|.\n",
    ".L-J.\n",
    ".....\n",
    "\"\"\"\n",
    "\n",
    "example_2_1 =\"\"\"-L|F7\n",
    "7S-7|\n",
    "L|7||\n",
    "-L-J|\n",
    "L|-JF\n",
    "\"\"\"\n",
    "\n",
    "example_3 =\"\"\"..F7.\n",
    ".FJ|.\n",
    "SJ.L7\n",
    "|F--J\n",
    "LJ...\n",
    "\"\"\"\n",
    "\n",
    "example_3_1 =\"\"\"7-F7-\n",
    ".FJ|7\n",
    "SJLL7\n",
    "|F--J\n",
    "LJ.LJ\n",
    "\"\"\""
   ]
  },
  {
   "cell_type": "code",
   "execution_count": 12,
   "metadata": {},
   "outputs": [
    {
     "data": {
      "text/plain": [
       "array([['.', '.', '.', '.', '.'],\n",
       "       ['.', 'F', '-', '7', '.'],\n",
       "       ['.', '|', '.', '|', '.'],\n",
       "       ['.', 'L', '-', 'J', '.'],\n",
       "       ['.', '.', '.', '.', '.']], dtype='<U1')"
      ]
     },
     "metadata": {},
     "output_type": "display_data"
    },
    {
     "name": "stdout",
     "output_type": "stream",
     "text": [
      "Found pipe at (1, 1)\n",
      "Found pipe at (1, 3)\n",
      "Found pipe at (2, 1)\n",
      "Found pipe at (2, 3)\n",
      "Found pipe at (3, 1)\n",
      "Found pipe at (3, 3)\n",
      "[(1, 1), (1, 3), (2, 1), (2, 3), (3, 1), (3, 3)]\n"
     ]
    }
   ],
   "source": [
    "import numpy as np\n",
    "\n",
    "def split_input(input_data):\n",
    "    return [list(row) for row in input_data.splitlines()]\n",
    "\n",
    "\n",
    "def check_pipe(x_row, x_col, local_grid_array, original_char, debug=False):\n",
    "    \"\"\"\n",
    "    Determine if a pipe is valid based on a 3x3 grid.\n",
    "    Valid pipes have exactly two connections and is the expected\n",
    "    character, or 'S'\n",
    "    \"\"\"\n",
    "    # Define the possible pipe types\n",
    "    pipe_types = {\n",
    "        '|': [(-1, 0), (1, 0)],\n",
    "        '-': [(0, -1), (0, 1)],\n",
    "        'L': [(0, -1), (1, 0)],\n",
    "        'J': [(0, -1), (1, 0)],\n",
    "        '7': [(0, 1), (-1, 0)],\n",
    "        'F': [(0, 1), (-1, 0)],\n",
    "        '.': []\n",
    "    }\n",
    "    # Check each position relative to 'X'\n",
    "    valid_pipes = 0\n",
    "    for dr, dc in [(-1, 0), (1, 0), (0, -1), (0, 1)]:\n",
    "        new_row, new_col = x_row + dr, x_col + dc\n",
    "        if debug:\n",
    "            print(f\"New row: {dr}, new col: {dc}, char: {local_grid_array[new_row, new_col]}\")\n",
    "        if 0 <= new_row < local_grid_array.shape[0] and 0 <= new_col < local_grid_array.shape[1]:\n",
    "            if (dr,dc) in pipe_types[local_grid_array[new_row, new_col][0]]:\n",
    "                if debug:\n",
    "                    print(f\"Found valid pipe {local_grid_array[new_row, new_col]}\")\n",
    "                valid_pipes += 1\n",
    "    # If there's exactly two valid pipes next to 'X', return True, else False\n",
    "    return valid_pipes == 2\n",
    "\n",
    "content = np.array(split_input(example_1))\n",
    "display(content)\n",
    "# Loop through every character, take a 3x3 grid around it, and check if it's a valid pipe\n",
    "valid_pipes = []\n",
    "for row in range(content.shape[0]):\n",
    "    for col in range(content.shape[1]):\n",
    "        debug = False\n",
    "        # Handle edge cases by creating partial grids\n",
    "        grid_slice = content[max(0, row-1):min(content.shape[0], row+2), max(0, col-1):min(content.shape[1], col+2)].copy()\n",
    "        # Determine the position of 'X' in the grid slice\n",
    "        x_row, x_col = min(1, row), min(1, col)\n",
    "        # Save the original character and mark the current position with 'X'\n",
    "        original_char = grid_slice[x_row, x_col]\n",
    "        # if original_char == '|':\n",
    "        #     debug = True\n",
    "        grid_slice[x_row, x_col] = 'X'\n",
    "        # print(grid_slice)\n",
    "        if check_pipe(x_row, x_col,grid_slice, original_char,debug):\n",
    "            print(f\"Found pipe at ({row}, {col})\")\n",
    "            valid_pipes.append((row, col))\n",
    "print(valid_pipes)\n"
   ]
  },
  {
   "cell_type": "code",
   "execution_count": 54,
   "metadata": {},
   "outputs": [
    {
     "name": "stdout",
     "output_type": "stream",
     "text": [
      "[['.' 'F' '-']\n",
      " ['.' 'X' '.']\n",
      " ['.' 'L' '-']]\n",
      "New row: -1, new col: 0, char: F\n",
      "Valid pipe\n",
      "New row: 1, new col: 0, char: L\n",
      "Valid pipe\n",
      "New row: 0, new col: -1, char: .\n",
      "New row: 0, new col: 1, char: .\n",
      "Valid pipes: 2\n"
     ]
    },
    {
     "data": {
      "text/plain": [
       "True"
      ]
     },
     "execution_count": 54,
     "metadata": {},
     "output_type": "execute_result"
    }
   ],
   "source": [
    "def check_pipe(x_row, x_col, local_grid_array, original_char):\n",
    "    \"\"\"\n",
    "    Determine if a pipe is valid based on a 3x3 grid.\n",
    "    Valid pipes have exactly two connections and is the expected\n",
    "    character, or 'S'\n",
    "    \"\"\"\n",
    "    # Define the possible pipe types\n",
    "    pipe_types = {\n",
    "        '|': [(-1, 0), (1, 0)],\n",
    "        '-': [(0, -1), (0, 1)],\n",
    "        'L': [(0, -1), (1, 0)],\n",
    "        'J': [(0, -1), (1, 0)],\n",
    "        '7': [(0, 1), (1, 0)],\n",
    "        'F': [(0, 1), (-1, 0)],\n",
    "        '.': []\n",
    "    }\n",
    "    # Check each position relative to 'X'\n",
    "    valid_pipes = 0\n",
    "    for dr, dc in [(-1, 0), (1, 0), (0, -1), (0, 1)]:\n",
    "        new_row, new_col = x_row + dr, x_col + dc\n",
    "        print(f\"New row: {dr}, new col: {dc}, char: {local_grid_array[new_row, new_col]}\")\n",
    "        if 0 <= new_row < local_grid_array.shape[0] and 0 <= new_col < local_grid_array.shape[1]:\n",
    "            if (dr,dc) in pipe_types[local_grid_array[new_row, new_col][0]]:\n",
    "                print(\"Valid pipe\")\n",
    "                valid_pipes += 1\n",
    "    # If there's exactly two valid pipes next to 'X', return True, else False\n",
    "    print(f\"Valid pipes: {valid_pipes}\")\n",
    "    return valid_pipes == 2\n",
    "\n",
    "# '-': [(-1, 0), (1, 0)],\n",
    "# '|': [(0, -1), (0, 1)],\n",
    "#  'F': [(0, 1), (-1, 0)],\n",
    "#  'L': [(0, -1), (-1, 0)],\n",
    "\n",
    "test_grid1 = np.array([['.', '.', '.'],\n",
    "['.', 'X', '-'],\n",
    "['.', '|', '.']])\n",
    "\n",
    "test_grid2 = np.array([['.', 'F', '-'],\n",
    "['.', 'X', '.'],\n",
    "['.', 'L', '-']])\n",
    "print(test_grid2)\n",
    "check_pipe(1, 1, test_grid2, 'F')\n"
   ]
  },
  {
   "cell_type": "code",
   "execution_count": null,
   "metadata": {},
   "outputs": [],
   "source": []
  }
 ],
 "metadata": {
  "kernelspec": {
   "display_name": "rr_bot",
   "language": "python",
   "name": "python3"
  },
  "language_info": {
   "codemirror_mode": {
    "name": "ipython",
    "version": 3
   },
   "file_extension": ".py",
   "mimetype": "text/x-python",
   "name": "python",
   "nbconvert_exporter": "python",
   "pygments_lexer": "ipython3",
   "version": "3.9.12"
  }
 },
 "nbformat": 4,
 "nbformat_minor": 2
}
