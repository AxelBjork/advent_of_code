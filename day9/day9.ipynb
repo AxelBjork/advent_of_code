{
 "cells": [
  {
   "cell_type": "code",
   "execution_count": 5,
   "metadata": {},
   "outputs": [
    {
     "data": {
      "text/plain": [
       "1479011877"
      ]
     },
     "execution_count": 5,
     "metadata": {},
     "output_type": "execute_result"
    }
   ],
   "source": [
    "\"\"\"\n",
    "The report of many values and how they are changing over time (your puzzle input).\n",
    "Each line in the report contains the history of a single value. For example:\n",
    "\n",
    "{example_1}\n",
    "\n",
    "To best protect the oasis, your environmental report should include a prediction of the next value in each history.\n",
    "To do this, start by making a new sequence from the difference at each step of your history.\n",
    "If that sequence is not all zeroes, repeat this process, using the sequence you just generated as the input sequence.\n",
    "Once all of the values in your latest sequence are zeroes, you can extrapolate what the next value of the original history should be.\n",
    "\"\"\"\n",
    "\n",
    "example_1 = \"\"\"0 3 6 9 12 15\n",
    "1 3 6 10 15 21\n",
    "10 13 16 21 30 45\n",
    "\"\"\"\n",
    "\n",
    "with open('adventofcode.com_2023_day_9_input.txt', 'r') as f:\n",
    "    input_string = f.read()\n",
    "\n",
    "def parse_input(input_string):\n",
    "    # Parse the input into a list of lists of integers\n",
    "    return [[int(num) for num in line.split()] for line in input_string.strip().split('\\n')]\n",
    "\n",
    "def generate_difference_sequences(sequence):\n",
    "    # Generate sequences of differences until reaching all zeros or a single element\n",
    "    sequences = [sequence]\n",
    "    while len(sequences[-1]) > 1 and not all(difference == 0 for difference in sequences[-1][1:]):\n",
    "        new_sequence = [b - a for a, b in zip(sequences[-1], sequences[-1][1:])]\n",
    "        sequences.append(new_sequence)\n",
    "    return sequences\n",
    "\n",
    "def extrapolate_next_value(sequences):\n",
    "    # Add a zero to the end of the zero sequence\n",
    "    sequences[-1].append(0)\n",
    "\n",
    "    # Work upwards to determine the next value\n",
    "    for i in range(len(sequences) - 2, -1, -1):\n",
    "        sequences[i].append(sequences[i][-1] + sequences[i + 1][-1])\n",
    "\n",
    "    # The last value in the top sequence is the predicted next value\n",
    "    return sequences[0][-1]\n",
    "\n",
    "def predict_next_values(input_string):\n",
    "    sequences = parse_input(input_string)\n",
    "    predictions = []\n",
    "    for sequence in sequences:\n",
    "        difference_sequences = generate_difference_sequences(sequence)\n",
    "        next_value = extrapolate_next_value(difference_sequences)\n",
    "        predictions.append(next_value)\n",
    "    return predictions\n",
    "# Testing with the provided example\n",
    "next_values = predict_next_values(input_string)  # Expected output: [18, 28, 68]\n",
    "\n",
    "sum(next_values)  # Expected output: 114"
   ]
  },
  {
   "cell_type": "code",
   "execution_count": 8,
   "metadata": {},
   "outputs": [
    {
     "data": {
      "text/plain": [
       "973"
      ]
     },
     "execution_count": 8,
     "metadata": {},
     "output_type": "execute_result"
    }
   ],
   "source": [
    "def extrapolate_previous_value(sequences):\n",
    "    # Add a zero to the beginning of the zero sequence\n",
    "    sequences[-1].insert(0, 0)\n",
    "\n",
    "    # Work upwards to determine the new first value\n",
    "    for i in range(len(sequences) - 2, -1, -1):\n",
    "        sequences[i].insert(0, sequences[i][0] - sequences[i + 1][0])\n",
    "\n",
    "    # The first value in the top sequence is the extrapolated previous value\n",
    "    return sequences[0][0]\n",
    "\n",
    "def predict_previous_values(input_string):\n",
    "    sequences = parse_input(input_string)\n",
    "    predictions = []\n",
    "    for sequence in sequences:\n",
    "        difference_sequences = generate_difference_sequences(sequence)\n",
    "        previous_value = extrapolate_previous_value(difference_sequences)\n",
    "        predictions.append(previous_value)\n",
    "    return predictions\n",
    "\n",
    "prev_values = predict_previous_values(input_string)  # Expected output for previous values: [-3, 0, 5]\n",
    "sum(prev_values)  # Expected output: 114"
   ]
  },
  {
   "cell_type": "code",
   "execution_count": null,
   "metadata": {},
   "outputs": [],
   "source": []
  }
 ],
 "metadata": {
  "kernelspec": {
   "display_name": "rr_bot",
   "language": "python",
   "name": "python3"
  },
  "language_info": {
   "codemirror_mode": {
    "name": "ipython",
    "version": 3
   },
   "file_extension": ".py",
   "mimetype": "text/x-python",
   "name": "python",
   "nbconvert_exporter": "python",
   "pygments_lexer": "ipython3",
   "version": "3.9.12"
  }
 },
 "nbformat": 4,
 "nbformat_minor": 2
}
