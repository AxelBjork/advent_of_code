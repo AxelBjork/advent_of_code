{
 "cells": [
  {
   "cell_type": "code",
   "execution_count": 2,
   "metadata": {},
   "outputs": [
    {
     "data": {
      "text/plain": [
       "6488"
      ]
     },
     "execution_count": 2,
     "metadata": {},
     "output_type": "execute_result"
    }
   ],
   "source": [
    "def count_arrangements(spring_conditions, group_sizes):\n",
    "    \"\"\"\n",
    "    Count the number of valid arrangements for a single row of springs based on the given criteria.\n",
    "    \"\"\"\n",
    "    def is_valid(arrangement, group_sizes):\n",
    "        \"\"\"\n",
    "        Check if a given arrangement is valid based on the group sizes.\n",
    "        \"\"\"\n",
    "        count, sizes = 0, []\n",
    "        for spring in arrangement:\n",
    "            if spring == '#':\n",
    "                count += 1\n",
    "            elif count > 0:\n",
    "                sizes.append(count)\n",
    "                count = 0\n",
    "        if count > 0:\n",
    "            sizes.append(count)\n",
    "        return sizes == group_sizes\n",
    "\n",
    "    def backtrack(index, current):\n",
    "        \"\"\"\n",
    "        Backtrack to find all valid arrangements.\n",
    "        \"\"\"\n",
    "        if index == len(spring_conditions):\n",
    "            if is_valid(current, group_sizes):\n",
    "                return 1\n",
    "            return 0\n",
    "\n",
    "        count = 0\n",
    "        if spring_conditions[index] == '?':\n",
    "            # Try both broken and operational\n",
    "            count += backtrack(index + 1, current + ['#'])\n",
    "            count += backtrack(index + 1, current + ['.'])\n",
    "        else:\n",
    "            # Follow the known condition\n",
    "            count += backtrack(index + 1, current + [spring_conditions[index]])\n",
    "        \n",
    "        return count\n",
    "\n",
    "    return backtrack(0, [])\n",
    "\n",
    "def solve_puzzle(input_data):\n",
    "    \"\"\"\n",
    "    Solve the puzzle by processing each row of input data.\n",
    "    \"\"\"\n",
    "    total_arrangements = 0\n",
    "    for line in input_data:\n",
    "        parts = line.split()\n",
    "        spring_conditions = parts[0]\n",
    "        group_sizes = list(map(int, parts[1].split(',')))\n",
    "        arrangements = count_arrangements(spring_conditions, group_sizes)\n",
    "        total_arrangements += arrangements\n",
    "\n",
    "    return total_arrangements\n",
    "\n",
    "# Example input from the puzzle\n",
    "example_input = [\n",
    "    \"???.### 1,1,3\",\n",
    "    \".??..??...?##. 1,1,3\",\n",
    "    \"?#?#?#?#?#?#?#? 1,3,1,6\",\n",
    "    \"????.#...#... 4,1,1\",\n",
    "    \"????.######..#####. 1,6,5\",\n",
    "    \"?###???????? 3,2,1\"\n",
    "]\n",
    "\n",
    "with open('adventofcode.com_2023_day_12_input.txt', 'r') as f:\n",
    "    input_string = f.read()\n",
    "    content = input_string.splitlines()\n",
    "\n",
    "# Solve the puzzle\n",
    "solve_puzzle(content)\n",
    "\n"
   ]
  },
  {
   "cell_type": "code",
   "execution_count": null,
   "metadata": {},
   "outputs": [],
   "source": []
  }
 ],
 "metadata": {
  "kernelspec": {
   "display_name": "rr_bot",
   "language": "python",
   "name": "python3"
  },
  "language_info": {
   "codemirror_mode": {
    "name": "ipython",
    "version": 3
   },
   "file_extension": ".py",
   "mimetype": "text/x-python",
   "name": "python",
   "nbconvert_exporter": "python",
   "pygments_lexer": "ipython3",
   "version": "3.9.12"
  }
 },
 "nbformat": 4,
 "nbformat_minor": 2
}
