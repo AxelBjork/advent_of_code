{
 "cells": [
  {
   "cell_type": "code",
   "execution_count": 19,
   "metadata": {},
   "outputs": [
    {
     "data": {
      "text/plain": [
       "('ZZZ', 17621)"
      ]
     },
     "execution_count": 19,
     "metadata": {},
     "output_type": "execute_result"
    }
   ],
   "source": [
    "def parse_input(input_string):\n",
    "    lines = input_string.strip().split('\\n')\n",
    "    directions = list(lines[0])\n",
    "    mapping = {}\n",
    "    for line in lines[2:]:\n",
    "        key, values = line.split(' = ')\n",
    "        mapping[key] = values.strip('()').split(', ')\n",
    "    return directions, mapping\n",
    "\n",
    "\n",
    "example_1 = \"\"\"RL\n",
    "\n",
    "AAA = (BBB, CCC)\n",
    "BBB = (DDD, EEE)\n",
    "CCC = (ZZZ, GGG)\n",
    "DDD = (DDD, DDD)\n",
    "EEE = (EEE, EEE)\n",
    "GGG = (GGG, GGG)\n",
    "ZZZ = (ZZZ, ZZZ)\n",
    "\"\"\"\n",
    "\n",
    "example_2 = \"\"\"LLR\n",
    "\n",
    "AAA = (BBB, BBB)\n",
    "BBB = (AAA, ZZZ)\n",
    "ZZZ = (ZZZ, ZZZ)\n",
    "\"\"\"\n",
    "def get_next_direction(directions, mapping, start):\n",
    "    steps = 0\n",
    "    while steps < 100000:\n",
    "        for direction in directions:\n",
    "            if direction == 'L':\n",
    "                start = mapping[start][0]\n",
    "            elif direction == 'R':\n",
    "                start = mapping[start][1]\n",
    "            else:\n",
    "                raise ValueError(f'Unknown direction: {direction}')\n",
    "            steps += 1\n",
    "            if start == 'ZZZ':\n",
    "                return start, steps\n",
    "    raise ValueError('Too many steps')\n",
    "\n",
    "with open('adventofcode.com_2023_day_8_input.txt', 'r') as f:\n",
    "    input_string = f.read()\n",
    "\n",
    "content = parse_input(input_string)\n",
    "\n",
    "\n",
    "get_next_direction(*content, 'AAA')"
   ]
  },
  {
   "cell_type": "code",
   "execution_count": null,
   "metadata": {},
   "outputs": [],
   "source": []
  }
 ],
 "metadata": {
  "kernelspec": {
   "display_name": "rr_bot",
   "language": "python",
   "name": "python3"
  },
  "language_info": {
   "codemirror_mode": {
    "name": "ipython",
    "version": 3
   },
   "file_extension": ".py",
   "mimetype": "text/x-python",
   "name": "python",
   "nbconvert_exporter": "python",
   "pygments_lexer": "ipython3",
   "version": "3.9.12"
  }
 },
 "nbformat": 4,
 "nbformat_minor": 2
}
